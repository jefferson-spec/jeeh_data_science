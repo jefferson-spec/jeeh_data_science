{
  "nbformat": 4,
  "nbformat_minor": 0,
  "metadata": {
    "colab": {
      "name": "Rede Neurais",
      "provenance": [],
      "authorship_tag": "ABX9TyPnLarb4OfP3oLUvw7mIEt2",
      "include_colab_link": true
    },
    "kernelspec": {
      "name": "python3",
      "display_name": "Python 3"
    }
  },
  "cells": [
    {
      "cell_type": "markdown",
      "metadata": {
        "id": "view-in-github",
        "colab_type": "text"
      },
      "source": [
        "<a href=\"https://colab.research.google.com/github/jefferson-spec/jeeh_data_science/blob/master/Rede_Neurais.ipynb\" target=\"_parent\"><img src=\"https://colab.research.google.com/assets/colab-badge.svg\" alt=\"Open In Colab\"/></a>"
      ]
    },
    {
      "cell_type": "markdown",
      "metadata": {
        "id": "En3tqLKOGTVy",
        "colab_type": "text"
      },
      "source": [
        "Redes neurais (NN) são os blocos construtores fundamentais do Deep Learning. Sua popularidade se dá devido a capacidade de lidar com problemas altamente complexos, onde algoritmos tradicionais não foram capazes de obter sucesso.\n",
        "\n",
        "Entre as principais aplicações das NN estão os carros autônomos, reconhecimento de objetos em imagens, tradução entre idiomas, legendas automáticas em vídeos, entre outras.\n",
        "\n",
        "\n",
        "\n",
        "Como foi mencionado na apresentação de slides, as NN são inspiradas neurônios biológicos da vida real, aqueles que temos no nosso próprio sistema nervoso - aproximadamente 10 bilhões.\n",
        "\n",
        "Cada um dos nossos neurônios está conectado a cerca de 10 mil outros neurônios. A comunicação entre esses neurônios ocorre por meio de impulsos captados pelos dendritos. Na sequência, esses impulsos são transmitidos pelo corpo do neurônio, por meio do axônio, até atingirem os dendritos de neurônios vizinhos através de sinapses.\n",
        "\n",
        "\n",
        "\n",
        "Se ficou difícil de imaginar esse paralelo entre o mundo real e artificial, veja a imagem abaixa comparando redes neurais biológicas e artificiais, bio-inspirados:\n",
        "\n",
        "\n",
        "\n",
        "Abandonando um pouco\n",
        "\n",
        "Em um NN artificial, recebem-se valores $x_1, x_2, x_3$, jutamente com uma constante conhecida como bias, que são multiplicados por pesos $w_1, w_2, w_3, w_4$ e somados. Por fim, essa soma passa por uma função de ativação, que irá fornecer o output.\n",
        "\n",
        "Matematicamente, a saída (output) da NN pode ser escrita de várias formas diferentes. Tipicamente você irá encontrar a forma matemática, escrita como uma única equação:\n",
        "\n",
        "$$\n",
        "\\hat{y} = g \\left(w_0 + \\sum_{i=1}^{m} x_iw_i \\right) \\\\\n",
        "$$\n",
        "ou podemos escrever a mesma coisa usando a Algebra Linear em termos de vetores e produtos escalares:\n",
        "\n",
        "$$ \\hat{y} = g \\left( w_0 + X^T W \\right) \\\\ $$$$ \\begin{equation} \\begin{aligned} X&= \\begin{bmatrix} x_1 \\\\ \\vdots \\\\ x_2 \\end{bmatrix} &&W= \\begin{bmatrix} w_1 \\\\ \\vdots \\\\ w_m \\end{bmatrix} \\\\ \\end{aligned} \\end{equation} $$\n",
        "Um exemplo de Rede Neural simples\n",
        "Veja a imagem abaixo, onde temos uma NN que recebe dois inputs e fornece um resultado de saída.\n",
        "\n",
        "\n",
        "\n",
        "Nessa situação acima temos:\n",
        "\n",
        "$$\n",
        "\\begin{equation}\n",
        "\\begin{aligned}\n",
        "X&amp;=\n",
        "    \\begin{bmatrix}\n",
        "        x_1 \\\\ x_2\n",
        "    \\end{bmatrix} \n",
        "&amp;&amp;W=\n",
        "    \\begin{bmatrix}\n",
        "        -2 \\\\ \\\\ 5\n",
        "    \\end{bmatrix}\n",
        "&amp;&amp;w_0=1\n",
        "\\end{aligned}\n",
        "\\end{equation}\n",
        "$$\n",
        "Matematicamente, o resultado final $\\hat{y}$ poderia ser escrito como $\\hat{y} = g(1 - 2x_1 +5x_2)$. No entanto, isso resolve apenas uma parte do problema.\n",
        "\n",
        "O poder do Deep Learning está em usar a não-lineariedade para resolver problemas complexos. É aí que entra a função de ativação, tema muito amplo (e que terá uma aula exclusiva para ele).\n",
        "\n",
        "Vamos apenas assumir que será usada a função sigmoidal (e sua curva sigmoidal) para fornecer à nossa NN essa tal não-lineariedade.\n",
        "\n",
        "$$\n",
        "g(z) = \\sigma(z) = \\frac{1}{1 + e^{-z}}\n",
        "$$\n",
        "Não entendeu essa questão da lineariedade?\n",
        "\n",
        "Visualmente, veja na figura abaixo (extraída do MIT) como a parte linear $w_0 + \\sum_{i=1}^{m} x_iw_i$ da nossa equação não conseguiria separar corretamente as classes, não importando quantas camadas de neurônios existissem.\n",
        "\n",
        "\n",
        "\n",
        "Já quando você utiliza essa parte linear dentro de uma função de ativação $\\sigma(w_0 + \\sum_{i=1}^{m} x_iw_i)$, possibilita que esse tipo de curva não-linear possa ocorrer."
      ]
    },
    {
      "cell_type": "code",
      "metadata": {
        "id": "2hKznui2gc04",
        "colab_type": "code",
        "outputId": "6f11b4ca-c642-4d29-9740-e0ab48a0d338",
        "colab": {
          "base_uri": "https://localhost:8080/",
          "height": 35
        }
      },
      "source": [
        "# exemplo dado na aula de rede neural:\n",
        "def sigmoid(x): \n",
        "    return 1.0/(1 + np.exp(-x))\n",
        "\n",
        "# valores de input\n",
        "x1 = 10\n",
        "x2 = -2\n",
        "\n",
        "# soma de w0 + X.W\n",
        "res = 1 -2*x1 + 5*x2\n",
        "\n",
        "# função de ativação sigmoid\n",
        "yhat = sigmoid(res)\n",
        "print(yhat)"
      ],
      "execution_count": 0,
      "outputs": [
        {
          "output_type": "stream",
          "text": [
            "2.543665647376276e-13\n"
          ],
          "name": "stdout"
        }
      ]
    },
    {
      "cell_type": "code",
      "metadata": {
        "id": "EnccSgmuGXVv",
        "colab_type": "code",
        "colab": {}
      },
      "source": [
        "# importar as bibliotecas necessárias\n",
        "%tensorflow_version 2.x\n",
        "import tensorflow as tf\n",
        "from tensorflow import keras\n",
        "import numpy as np\n",
        "import pandas as pd\n",
        "import matplotlib.pyplot as plt\n",
        "import seaborn as sns\n",
        "from sklearn.model_selection import train_test_split\n",
        "from sklearn.preprocessing import StandardScaler\n",
        "\n",
        "# configurações do notebook\n",
        "sns.set_style()\n",
        "\n",
        "# importar dataset simplificado (variáveis numéricas)\n",
        "from sklearn.datasets import fetch_california_housing\n"
      ],
      "execution_count": 0,
      "outputs": []
    },
    {
      "cell_type": "markdown",
      "metadata": {
        "id": "1qwYqAbQgMvY",
        "colab_type": "text"
      },
      "source": [
        "## Redes Neurais so dataset imobiliario da california"
      ]
    },
    {
      "cell_type": "code",
      "metadata": {
        "id": "H5SuAUVegThd",
        "colab_type": "code",
        "colab": {}
      },
      "source": [
        "# importar o dataset e lista com nomes das features\n",
        "dataset = fetch_california_housing()\n",
        "features = dataset.feature_names\n",
        "\n",
        "# dividir entre treino, validação e teste\n",
        "X_train_original, X_test, y_train_original, y_test = train_test_split(dataset.data, dataset.target)\n",
        "X_train, X_valid, y_train, y_valid = train_test_split(X_train_original, y_train_original)"
      ],
      "execution_count": 0,
      "outputs": []
    },
    {
      "cell_type": "code",
      "metadata": {
        "id": "LvT_XI3agiY_",
        "colab_type": "code",
        "outputId": "ad737997-ca42-451b-e8b5-df186f56ad94",
        "colab": {
          "base_uri": "https://localhost:8080/",
          "height": 204
        }
      },
      "source": [
        "# ver como ficaria em formato de DataFrame\n",
        "df = pd.DataFrame(X_train)\n",
        "df.columns = features\n",
        "df.head()"
      ],
      "execution_count": 0,
      "outputs": [
        {
          "output_type": "execute_result",
          "data": {
            "text/html": [
              "<div>\n",
              "<style scoped>\n",
              "    .dataframe tbody tr th:only-of-type {\n",
              "        vertical-align: middle;\n",
              "    }\n",
              "\n",
              "    .dataframe tbody tr th {\n",
              "        vertical-align: top;\n",
              "    }\n",
              "\n",
              "    .dataframe thead th {\n",
              "        text-align: right;\n",
              "    }\n",
              "</style>\n",
              "<table border=\"1\" class=\"dataframe\">\n",
              "  <thead>\n",
              "    <tr style=\"text-align: right;\">\n",
              "      <th></th>\n",
              "      <th>MedInc</th>\n",
              "      <th>HouseAge</th>\n",
              "      <th>AveRooms</th>\n",
              "      <th>AveBedrms</th>\n",
              "      <th>Population</th>\n",
              "      <th>AveOccup</th>\n",
              "      <th>Latitude</th>\n",
              "      <th>Longitude</th>\n",
              "    </tr>\n",
              "  </thead>\n",
              "  <tbody>\n",
              "    <tr>\n",
              "      <th>0</th>\n",
              "      <td>4.7813</td>\n",
              "      <td>36.0</td>\n",
              "      <td>5.167702</td>\n",
              "      <td>1.012422</td>\n",
              "      <td>963.0</td>\n",
              "      <td>2.990683</td>\n",
              "      <td>37.67</td>\n",
              "      <td>-122.45</td>\n",
              "    </tr>\n",
              "    <tr>\n",
              "      <th>1</th>\n",
              "      <td>3.2222</td>\n",
              "      <td>34.0</td>\n",
              "      <td>5.342365</td>\n",
              "      <td>1.029557</td>\n",
              "      <td>1169.0</td>\n",
              "      <td>2.879310</td>\n",
              "      <td>33.92</td>\n",
              "      <td>-118.02</td>\n",
              "    </tr>\n",
              "    <tr>\n",
              "      <th>2</th>\n",
              "      <td>6.2073</td>\n",
              "      <td>5.0</td>\n",
              "      <td>7.184633</td>\n",
              "      <td>1.041284</td>\n",
              "      <td>3326.0</td>\n",
              "      <td>3.814220</td>\n",
              "      <td>38.00</td>\n",
              "      <td>-122.26</td>\n",
              "    </tr>\n",
              "    <tr>\n",
              "      <th>3</th>\n",
              "      <td>3.7614</td>\n",
              "      <td>52.0</td>\n",
              "      <td>5.440217</td>\n",
              "      <td>1.038043</td>\n",
              "      <td>425.0</td>\n",
              "      <td>2.309783</td>\n",
              "      <td>36.62</td>\n",
              "      <td>-121.92</td>\n",
              "    </tr>\n",
              "    <tr>\n",
              "      <th>4</th>\n",
              "      <td>4.6250</td>\n",
              "      <td>36.0</td>\n",
              "      <td>24.500000</td>\n",
              "      <td>3.500000</td>\n",
              "      <td>28.0</td>\n",
              "      <td>14.000000</td>\n",
              "      <td>36.51</td>\n",
              "      <td>-119.54</td>\n",
              "    </tr>\n",
              "  </tbody>\n",
              "</table>\n",
              "</div>"
            ],
            "text/plain": [
              "   MedInc  HouseAge   AveRooms  ...   AveOccup  Latitude  Longitude\n",
              "0  4.7813      36.0   5.167702  ...   2.990683     37.67    -122.45\n",
              "1  3.2222      34.0   5.342365  ...   2.879310     33.92    -118.02\n",
              "2  6.2073       5.0   7.184633  ...   3.814220     38.00    -122.26\n",
              "3  3.7614      52.0   5.440217  ...   2.309783     36.62    -121.92\n",
              "4  4.6250      36.0  24.500000  ...  14.000000     36.51    -119.54\n",
              "\n",
              "[5 rows x 8 columns]"
            ]
          },
          "metadata": {
            "tags": []
          },
          "execution_count": 15
        }
      ]
    },
    {
      "cell_type": "code",
      "metadata": {
        "id": "xNWmSPLMg4rJ",
        "colab_type": "code",
        "colab": {}
      },
      "source": [
        " #padronizar os dados com StandardScaler por causa do Gradient Descent\n",
        "scaler = StandardScaler()\n",
        "X_train = scaler.fit_transform(X_train)\n",
        "X_test = scaler.transform(X_test)\n",
        "X_valid = scaler.transform(X_valid)"
      ],
      "execution_count": 0,
      "outputs": []
    },
    {
      "cell_type": "code",
      "metadata": {
        "id": "M2pebiilhkBr",
        "colab_type": "code",
        "outputId": "e400cc1d-0354-4adb-effd-063f20d4f666",
        "colab": {
          "base_uri": "https://localhost:8080/",
          "height": 204
        }
      },
      "source": [
        "# ver o dataset padronizado\n",
        "df = pd.DataFrame(X_train)\n",
        "df.columns = features\n",
        "df.head()"
      ],
      "execution_count": 0,
      "outputs": [
        {
          "output_type": "execute_result",
          "data": {
            "text/html": [
              "<div>\n",
              "<style scoped>\n",
              "    .dataframe tbody tr th:only-of-type {\n",
              "        vertical-align: middle;\n",
              "    }\n",
              "\n",
              "    .dataframe tbody tr th {\n",
              "        vertical-align: top;\n",
              "    }\n",
              "\n",
              "    .dataframe thead th {\n",
              "        text-align: right;\n",
              "    }\n",
              "</style>\n",
              "<table border=\"1\" class=\"dataframe\">\n",
              "  <thead>\n",
              "    <tr style=\"text-align: right;\">\n",
              "      <th></th>\n",
              "      <th>MedInc</th>\n",
              "      <th>HouseAge</th>\n",
              "      <th>AveRooms</th>\n",
              "      <th>AveBedrms</th>\n",
              "      <th>Population</th>\n",
              "      <th>AveOccup</th>\n",
              "      <th>Latitude</th>\n",
              "      <th>Longitude</th>\n",
              "    </tr>\n",
              "  </thead>\n",
              "  <tbody>\n",
              "    <tr>\n",
              "      <th>0</th>\n",
              "      <td>0.462472</td>\n",
              "      <td>0.591322</td>\n",
              "      <td>-0.120674</td>\n",
              "      <td>-0.210350</td>\n",
              "      <td>-0.400815</td>\n",
              "      <td>0.013791</td>\n",
              "      <td>0.971666</td>\n",
              "      <td>-1.454492</td>\n",
              "    </tr>\n",
              "    <tr>\n",
              "      <th>1</th>\n",
              "      <td>-0.352073</td>\n",
              "      <td>0.432467</td>\n",
              "      <td>-0.038089</td>\n",
              "      <td>-0.165179</td>\n",
              "      <td>-0.223441</td>\n",
              "      <td>-0.033179</td>\n",
              "      <td>-0.790115</td>\n",
              "      <td>0.762707</td>\n",
              "    </tr>\n",
              "    <tr>\n",
              "      <th>2</th>\n",
              "      <td>1.207479</td>\n",
              "      <td>-1.870935</td>\n",
              "      <td>0.832987</td>\n",
              "      <td>-0.134261</td>\n",
              "      <td>1.633819</td>\n",
              "      <td>0.361111</td>\n",
              "      <td>1.126703</td>\n",
              "      <td>-1.359398</td>\n",
              "    </tr>\n",
              "    <tr>\n",
              "      <th>3</th>\n",
              "      <td>-0.070370</td>\n",
              "      <td>1.862164</td>\n",
              "      <td>0.008179</td>\n",
              "      <td>-0.142805</td>\n",
              "      <td>-0.864053</td>\n",
              "      <td>-0.273373</td>\n",
              "      <td>0.478368</td>\n",
              "      <td>-1.189229</td>\n",
              "    </tr>\n",
              "    <tr>\n",
              "      <th>4</th>\n",
              "      <td>0.380814</td>\n",
              "      <td>0.591322</td>\n",
              "      <td>9.020178</td>\n",
              "      <td>6.347695</td>\n",
              "      <td>-1.205885</td>\n",
              "      <td>4.656878</td>\n",
              "      <td>0.426689</td>\n",
              "      <td>0.001952</td>\n",
              "    </tr>\n",
              "  </tbody>\n",
              "</table>\n",
              "</div>"
            ],
            "text/plain": [
              "     MedInc  HouseAge  AveRooms  ...  AveOccup  Latitude  Longitude\n",
              "0  0.462472  0.591322 -0.120674  ...  0.013791  0.971666  -1.454492\n",
              "1 -0.352073  0.432467 -0.038089  ... -0.033179 -0.790115   0.762707\n",
              "2  1.207479 -1.870935  0.832987  ...  0.361111  1.126703  -1.359398\n",
              "3 -0.070370  1.862164  0.008179  ... -0.273373  0.478368  -1.189229\n",
              "4  0.380814  0.591322  9.020178  ...  4.656878  0.426689   0.001952\n",
              "\n",
              "[5 rows x 8 columns]"
            ]
          },
          "metadata": {
            "tags": []
          },
          "execution_count": 17
        }
      ]
    },
    {
      "cell_type": "code",
      "metadata": {
        "id": "xWYDqnr2o0OR",
        "colab_type": "code",
        "outputId": "e14841b7-440a-48e0-f0e4-fa2a523fa5dc",
        "colab": {
          "base_uri": "https://localhost:8080/",
          "height": 35
        }
      },
      "source": [
        "X_train.shape[1:]"
      ],
      "execution_count": 0,
      "outputs": [
        {
          "output_type": "execute_result",
          "data": {
            "text/plain": [
              "(8,)"
            ]
          },
          "metadata": {
            "tags": []
          },
          "execution_count": 19
        }
      ]
    },
    {
      "cell_type": "code",
      "metadata": {
        "id": "S65yZegVhyeA",
        "colab_type": "code",
        "colab": {}
      },
      "source": [
        "# coństruir nn\n",
        "model = keras.models.Sequential(\n",
        "    [\n",
        "     keras.layers.Dense(30, activation='relu', input_shape=(X_train.shape[1:])),\n",
        "     keras.layers.Dense(1)\n",
        "    ]\n",
        ")"
      ],
      "execution_count": 0,
      "outputs": []
    },
    {
      "cell_type": "code",
      "metadata": {
        "id": "UkuEhzC4pGrp",
        "colab_type": "code",
        "outputId": "d9e5e6eb-76b2-4475-834b-0deab4141f0d",
        "colab": {
          "base_uri": "https://localhost:8080/",
          "height": 1000
        }
      },
      "source": [
        "# compilar a nn\n",
        "model.compile(loss = 'mean_squared_error', optimizer='sgd')\n",
        "\n",
        "#obter o historico de lose\n",
        "history = model.fit(X_train, y_train, epochs=50, validation_data=(X_valid, y_valid))\n",
        "\n",
        "#verificar o MSE\n",
        "error = model.evaluate(X_test, y_test)"
      ],
      "execution_count": 0,
      "outputs": [
        {
          "output_type": "stream",
          "text": [
            "Epoch 1/50\n",
            "363/363 [==============================] - 1s 2ms/step - loss: 0.8320 - val_loss: 4.2812\n",
            "Epoch 2/50\n",
            "363/363 [==============================] - 1s 1ms/step - loss: 0.5213 - val_loss: 4.9375\n",
            "Epoch 3/50\n",
            "363/363 [==============================] - 1s 1ms/step - loss: 0.4626 - val_loss: 0.6561\n",
            "Epoch 4/50\n",
            "363/363 [==============================] - 1s 1ms/step - loss: 0.4206 - val_loss: 0.4322\n",
            "Epoch 5/50\n",
            "363/363 [==============================] - 1s 1ms/step - loss: 0.4073 - val_loss: 0.4170\n",
            "Epoch 6/50\n",
            "363/363 [==============================] - 1s 1ms/step - loss: 0.3960 - val_loss: 0.4045\n",
            "Epoch 7/50\n",
            "363/363 [==============================] - 1s 1ms/step - loss: 0.3914 - val_loss: 0.3886\n",
            "Epoch 8/50\n",
            "363/363 [==============================] - 1s 1ms/step - loss: 0.3850 - val_loss: 0.4075\n",
            "Epoch 9/50\n",
            "363/363 [==============================] - 1s 1ms/step - loss: 0.3807 - val_loss: 0.3781\n",
            "Epoch 10/50\n",
            "363/363 [==============================] - 1s 1ms/step - loss: 0.3777 - val_loss: 0.4158\n",
            "Epoch 11/50\n",
            "363/363 [==============================] - 1s 1ms/step - loss: 0.3736 - val_loss: 0.3915\n",
            "Epoch 12/50\n",
            "363/363 [==============================] - 1s 1ms/step - loss: 0.3720 - val_loss: 0.4141\n",
            "Epoch 13/50\n",
            "363/363 [==============================] - 0s 1ms/step - loss: 0.3685 - val_loss: 0.3634\n",
            "Epoch 14/50\n",
            "363/363 [==============================] - 1s 1ms/step - loss: 0.3663 - val_loss: 0.3651\n",
            "Epoch 15/50\n",
            "363/363 [==============================] - 1s 1ms/step - loss: 0.3646 - val_loss: 0.4206\n",
            "Epoch 16/50\n",
            "363/363 [==============================] - 1s 1ms/step - loss: 0.3640 - val_loss: 0.4560\n",
            "Epoch 17/50\n",
            "363/363 [==============================] - 1s 1ms/step - loss: 0.3599 - val_loss: 0.4322\n",
            "Epoch 18/50\n",
            "363/363 [==============================] - 1s 1ms/step - loss: 0.3602 - val_loss: 0.4853\n",
            "Epoch 19/50\n",
            "363/363 [==============================] - 1s 1ms/step - loss: 0.3583 - val_loss: 0.4866\n",
            "Epoch 20/50\n",
            "363/363 [==============================] - 1s 1ms/step - loss: 0.3575 - val_loss: 0.5888\n",
            "Epoch 21/50\n",
            "363/363 [==============================] - 1s 1ms/step - loss: 0.3573 - val_loss: 0.6435\n",
            "Epoch 22/50\n",
            "363/363 [==============================] - 1s 2ms/step - loss: 0.3584 - val_loss: 0.4320\n",
            "Epoch 23/50\n",
            "363/363 [==============================] - 1s 1ms/step - loss: 0.3525 - val_loss: 0.3629\n",
            "Epoch 24/50\n",
            "363/363 [==============================] - 1s 1ms/step - loss: 0.3513 - val_loss: 0.3795\n",
            "Epoch 25/50\n",
            "363/363 [==============================] - 0s 1ms/step - loss: 0.3493 - val_loss: 0.4775\n",
            "Epoch 26/50\n",
            "363/363 [==============================] - 1s 1ms/step - loss: 0.3483 - val_loss: 0.6047\n",
            "Epoch 27/50\n",
            "363/363 [==============================] - 1s 1ms/step - loss: 0.3500 - val_loss: 0.5088\n",
            "Epoch 28/50\n",
            "363/363 [==============================] - 1s 1ms/step - loss: 0.3472 - val_loss: 0.6797\n",
            "Epoch 29/50\n",
            "363/363 [==============================] - 1s 1ms/step - loss: 0.3471 - val_loss: 0.6092\n",
            "Epoch 30/50\n",
            "363/363 [==============================] - 1s 1ms/step - loss: 0.3439 - val_loss: 0.3558\n",
            "Epoch 31/50\n",
            "363/363 [==============================] - 1s 1ms/step - loss: 0.3428 - val_loss: 0.4125\n",
            "Epoch 32/50\n",
            "363/363 [==============================] - 1s 1ms/step - loss: 0.3433 - val_loss: 0.3666\n",
            "Epoch 33/50\n",
            "363/363 [==============================] - 0s 1ms/step - loss: 0.3397 - val_loss: 0.3671\n",
            "Epoch 34/50\n",
            "363/363 [==============================] - 1s 1ms/step - loss: 0.3382 - val_loss: 0.3566\n",
            "Epoch 35/50\n",
            "363/363 [==============================] - 1s 1ms/step - loss: 0.3371 - val_loss: 0.3541\n",
            "Epoch 36/50\n",
            "363/363 [==============================] - 1s 1ms/step - loss: 0.3352 - val_loss: 0.3525\n",
            "Epoch 37/50\n",
            "363/363 [==============================] - 1s 1ms/step - loss: 0.3330 - val_loss: 0.3498\n",
            "Epoch 38/50\n",
            "363/363 [==============================] - 1s 1ms/step - loss: 0.3326 - val_loss: 0.3434\n",
            "Epoch 39/50\n",
            "363/363 [==============================] - 1s 1ms/step - loss: 0.3332 - val_loss: 0.3501\n",
            "Epoch 40/50\n",
            "363/363 [==============================] - 1s 1ms/step - loss: 0.3309 - val_loss: 0.3464\n",
            "Epoch 41/50\n",
            "363/363 [==============================] - 1s 1ms/step - loss: 0.3302 - val_loss: 0.3496\n",
            "Epoch 42/50\n",
            "363/363 [==============================] - 1s 1ms/step - loss: 0.3293 - val_loss: 0.3713\n",
            "Epoch 43/50\n",
            "363/363 [==============================] - 1s 1ms/step - loss: 0.3287 - val_loss: 0.3352\n",
            "Epoch 44/50\n",
            "363/363 [==============================] - 1s 1ms/step - loss: 0.3280 - val_loss: 0.4085\n",
            "Epoch 45/50\n",
            "363/363 [==============================] - 1s 1ms/step - loss: 0.3273 - val_loss: 0.3461\n",
            "Epoch 46/50\n",
            "363/363 [==============================] - 1s 1ms/step - loss: 0.3262 - val_loss: 0.3780\n",
            "Epoch 47/50\n",
            "363/363 [==============================] - 1s 1ms/step - loss: 0.3252 - val_loss: 0.3296\n",
            "Epoch 48/50\n",
            "363/363 [==============================] - 1s 1ms/step - loss: 0.3250 - val_loss: 0.3551\n",
            "Epoch 49/50\n",
            "363/363 [==============================] - 1s 1ms/step - loss: 0.3253 - val_loss: 0.3400\n",
            "Epoch 50/50\n",
            "363/363 [==============================] - 1s 1ms/step - loss: 0.3237 - val_loss: 0.3377\n",
            "162/162 [==============================] - 0s 999us/step - loss: 0.3323\n"
          ],
          "name": "stdout"
        }
      ]
    },
    {
      "cell_type": "code",
      "metadata": {
        "id": "PD6IQe9ZqUr6",
        "colab_type": "code",
        "outputId": "7fb45cf1-331c-412e-9e3b-46fd870f8d25",
        "colab": {
          "base_uri": "https://localhost:8080/",
          "height": 53
        }
      },
      "source": [
        "# fazer uma nova previsão\n",
        "model.predict(X_train[:2])"
      ],
      "execution_count": 0,
      "outputs": [
        {
          "output_type": "execute_result",
          "data": {
            "text/plain": [
              "array([[2.5961075],\n",
              "       [1.7055104]], dtype=float32)"
            ]
          },
          "metadata": {
            "tags": []
          },
          "execution_count": 25
        }
      ]
    },
    {
      "cell_type": "code",
      "metadata": {
        "id": "mQuoyFpsrBj2",
        "colab_type": "code",
        "outputId": "4f24d243-4497-4bbc-f44d-2e63459775e4",
        "colab": {
          "base_uri": "https://localhost:8080/",
          "height": 35
        }
      },
      "source": [
        "X_train[:2].shape"
      ],
      "execution_count": 0,
      "outputs": [
        {
          "output_type": "execute_result",
          "data": {
            "text/plain": [
              "(2, 8)"
            ]
          },
          "metadata": {
            "tags": []
          },
          "execution_count": 26
        }
      ]
    },
    {
      "cell_type": "code",
      "metadata": {
        "id": "FvBxNpZErQTy",
        "colab_type": "code",
        "outputId": "5fa4e083-17d5-4c82-f7aa-022838284e8a",
        "colab": {
          "base_uri": "https://localhost:8080/",
          "height": 35
        }
      },
      "source": [
        "X_train[0].shape"
      ],
      "execution_count": 0,
      "outputs": [
        {
          "output_type": "execute_result",
          "data": {
            "text/plain": [
              "(8,)"
            ]
          },
          "metadata": {
            "tags": []
          },
          "execution_count": 27
        }
      ]
    },
    {
      "cell_type": "code",
      "metadata": {
        "id": "2SI6EndSrUBi",
        "colab_type": "code",
        "outputId": "a8683186-00f0-49df-cccc-16e0a5212cc3",
        "colab": {
          "base_uri": "https://localhost:8080/",
          "height": 35
        }
      },
      "source": [
        "X_train[0].reshape(1, -1).shape"
      ],
      "execution_count": 0,
      "outputs": [
        {
          "output_type": "execute_result",
          "data": {
            "text/plain": [
              "(1, 8)"
            ]
          },
          "metadata": {
            "tags": []
          },
          "execution_count": 28
        }
      ]
    },
    {
      "cell_type": "code",
      "metadata": {
        "id": "HG0r7L8Oq1BV",
        "colab_type": "code",
        "outputId": "dcd32c9f-6fbe-4471-a2fa-7eab54780ca7",
        "colab": {
          "base_uri": "https://localhost:8080/",
          "height": 283
        }
      },
      "source": [
        "# plotar historico\n",
        "pd.DataFrame(history.history).plot()"
      ],
      "execution_count": 0,
      "outputs": [
        {
          "output_type": "execute_result",
          "data": {
            "text/plain": [
              "<matplotlib.axes._subplots.AxesSubplot at 0x7fde5aefa828>"
            ]
          },
          "metadata": {
            "tags": []
          },
          "execution_count": 31
        },
        {
          "output_type": "display_data",
          "data": {
            "image/png": "[encoded data removed]",
            "text/plain": [
              "<Figure size 432x288 with 1 Axes>"
            ]
          },
          "metadata": {
            "tags": [],
            "needs_background": "light"
          }
        }
      ]
    },
    {
      "cell_type": "code",
      "metadata": {
        "id": "7P59QWSurj3o",
        "colab_type": "code",
        "colab": {}
      },
      "source": [
        ""
      ],
      "execution_count": 0,
      "outputs": []
    }
  ]
}